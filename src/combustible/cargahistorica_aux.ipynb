{
 "cells": [
  {
   "cell_type": "code",
   "execution_count": 4,
   "metadata": {},
   "outputs": [],
   "source": [
    "import pandas as pd\n",
    "import numpy as np\n",
    "import sqlalchemy as sa              #Para conexión a BD, requerido para usar pd.read_sql()\n",
    "from sqlalchemy import text\n",
    "import urllib                        #Para formatear string de conexión\n",
    "#import cargahistorica as ch          #Carga el módulo en que definí la rutina de actualización de los datos \n",
    "\n",
    "param_DW = urllib.parse.quote_plus(\"DRIVER={ODBC Driver 17 for SQL Server};SERVER=10.34.71.202;UID=datawarehouse;PWD=datawarehouse;DATABASE=Estudios;TrustServerCertificate=yes\")\n",
    "engine = sa.create_engine(\"mssql+pyodbc:///?odbc_connect=%s\" % param_DW)\n"
   ]
  },
  {
   "cell_type": "code",
   "execution_count": 5,
   "metadata": {},
   "outputs": [
    {
     "name": "stderr",
     "output_type": "stream",
     "text": [
      "C:\\Users\\hector.garrido\\AppData\\Local\\Temp\\ipykernel_5308\\847562819.py:5: DtypeWarning: Columns (4,5) have mixed types. Specify dtype option on import or set low_memory=False.\n",
      "  data_2024 = pd.read_csv(\"C:/o/DCCP/Javier Guajardo - Traspaso/2. Cálculo de Ahorro/savings_dccp/data/combustible/precios por estacion/energia_abierta/2024.csv/2024.csv\", sep=\",\")\n"
     ]
    }
   ],
   "source": [
    "# Formatea los datos obtenidos desde Energía Abierta para el año 2024\n",
    "# Este notebook llena la brecha de información \n",
    "# que quedó entre el 16 de abril y el 27 de mayo, que es el momento en que se automatizó la consulta a la API de la CNE \n",
    "\n",
    "data_2024 = pd.read_csv(\"C:/o/DCCP/Javier Guajardo - Traspaso/2. Cálculo de Ahorro/savings_dccp/data/combustible/precios por estacion/energia_abierta/2024.csv/2024.csv\", sep=\",\")\n",
    "\n",
    "#start_date = '2024-04-16'\n",
    "#end_date = '2024-05-27'\n",
    "#data_2024 = data_2024.loc[(data_2024['fecha_actualizacion'] >= start_date) & (data_2024['fecha_actualizacion'] <= end_date)]\n"
   ]
  },
  {
   "cell_type": "code",
   "execution_count": 6,
   "metadata": {},
   "outputs": [
    {
     "name": "stderr",
     "output_type": "stream",
     "text": [
      "C:\\Users\\hector.garrido\\AppData\\Local\\Temp\\ipykernel_5308\\3406761952.py:12: SettingWithCopyWarning: \n",
      "A value is trying to be set on a copy of a slice from a DataFrame.\n",
      "Try using .loc[row_indexer,col_indexer] = value instead\n",
      "\n",
      "See the caveats in the documentation: https://pandas.pydata.org/pandas-docs/stable/user_guide/indexing.html#returning-a-view-versus-a-copy\n",
      "  reordered_data['tipo'] = reordered_data['tipo'].replace(reemplazos)\n",
      "C:\\Users\\hector.garrido\\AppData\\Local\\Temp\\ipykernel_5308\\3406761952.py:12: SettingWithCopyWarning: \n",
      "A value is trying to be set on a copy of a slice from a DataFrame.\n",
      "Try using .loc[row_indexer,col_indexer] = value instead\n",
      "\n",
      "See the caveats in the documentation: https://pandas.pydata.org/pandas-docs/stable/user_guide/indexing.html#returning-a-view-versus-a-copy\n",
      "  reordered_data['tipo'] = reordered_data['tipo'].replace(reemplazos)\n",
      "C:\\Users\\hector.garrido\\AppData\\Local\\Temp\\ipykernel_5308\\3406761952.py:12: SettingWithCopyWarning: \n",
      "A value is trying to be set on a copy of a slice from a DataFrame.\n",
      "Try using .loc[row_indexer,col_indexer] = value instead\n",
      "\n",
      "See the caveats in the documentation: https://pandas.pydata.org/pandas-docs/stable/user_guide/indexing.html#returning-a-view-versus-a-copy\n",
      "  reordered_data['tipo'] = reordered_data['tipo'].replace(reemplazos)\n",
      "C:\\Users\\hector.garrido\\AppData\\Local\\Temp\\ipykernel_5308\\3406761952.py:12: SettingWithCopyWarning: \n",
      "A value is trying to be set on a copy of a slice from a DataFrame.\n",
      "Try using .loc[row_indexer,col_indexer] = value instead\n",
      "\n",
      "See the caveats in the documentation: https://pandas.pydata.org/pandas-docs/stable/user_guide/indexing.html#returning-a-view-versus-a-copy\n",
      "  reordered_data['tipo'] = reordered_data['tipo'].replace(reemplazos)\n"
     ]
    }
   ],
   "source": [
    "reemplazos = {\n",
    "    'DI':'Diesel',\n",
    "    '93':'Bencina93',\n",
    "    '95':'Bencina95',\n",
    "    '97':'Bencina97'\n",
    "}\n",
    "\n",
    "def modify_data(data,fueltype, reemplazos):\n",
    "    renamed_data = data.rename(columns={'codigo':'id','fecha_actualizacion':'fecha_inicio','combustible':'tipo'})\n",
    "    renamed_data['fecha_fin'] = pd.Timestamp.now().strftime('%Y-%m-%d')\n",
    "    reordered_data = renamed_data[['id','fecha_inicio','fecha_fin','precio','tipo','hora_actualizacion']]\n",
    "    reordered_data['tipo'] = reordered_data['tipo'].replace(reemplazos)\n",
    "    modified_data = reordered_data[reordered_data['tipo'].isin(reemplazos.values())]\n",
    "    filtered_data = modified_data[modified_data['tipo']==fueltype]\n",
    "    return filtered_data\n",
    "\n",
    "Bencina93_24, Bencina95_24, Bencina97_24, Diesel_24 = (modify_data(data_2024, name, reemplazos) for name in ['Bencina93', 'Bencina95', 'Bencina97', 'Diesel'])\n"
   ]
  },
  {
   "cell_type": "code",
   "execution_count": null,
   "metadata": {},
   "outputs": [],
   "source": [
    "# Paso 2: Cargar los nuevos datos en la tabla auxiliar\n",
    "Bencina93_24[['id','precio','tipo','fecha_inicio','fecha_fin']].to_sql('Bencina93Hist', con=engine, if_exists='append', index=False, dtype={\n",
    "        'id': sa.types.NVARCHAR(length=50),\n",
    "        'precio': sa.types.Float(),\n",
    "        'tipo': sa.types.NVARCHAR(length=50),\n",
    "        'fecha_inicio': sa.types.Date(),\n",
    "        'fecha_fin': sa.types.Date()\n",
    "})"
   ]
  },
  {
   "cell_type": "code",
   "execution_count": 12,
   "metadata": {},
   "outputs": [
    {
     "data": {
      "text/plain": [
       "-1"
      ]
     },
     "execution_count": 12,
     "metadata": {},
     "output_type": "execute_result"
    }
   ],
   "source": [
    "# Paso 2: Cargar los nuevos datos en la tabla auxiliar\n",
    "Bencina95_24[['id','precio','tipo','fecha_inicio','fecha_fin']].to_sql('Bencina95Hist', con=engine, if_exists='append', index=False, dtype={\n",
    "        'id': sa.types.NVARCHAR(length=50),\n",
    "        'precio': sa.types.Float(),\n",
    "        'tipo': sa.types.NVARCHAR(length=50),\n",
    "        'fecha_inicio': sa.types.Date(),\n",
    "        'fecha_fin': sa.types.Date()\n",
    "})\n",
    "\n",
    "# Paso 2: Cargar los nuevos datos en la tabla auxiliar\n",
    "Bencina97_24[['id','precio','tipo','fecha_inicio','fecha_fin']].to_sql('Bencina97Hist', con=engine, if_exists='append', index=False, dtype={\n",
    "        'id': sa.types.NVARCHAR(length=50),\n",
    "        'precio': sa.types.Float(),\n",
    "        'tipo': sa.types.NVARCHAR(length=50),\n",
    "        'fecha_inicio': sa.types.Date(),\n",
    "        'fecha_fin': sa.types.Date()\n",
    "})\n",
    "\n",
    "# Paso 2: Cargar los nuevos datos en la tabla auxiliar\n",
    "Diesel_24[['id','precio','tipo','fecha_inicio','fecha_fin']].to_sql('DieselHist', con=engine, if_exists='append', index=False, dtype={\n",
    "        'id': sa.types.NVARCHAR(length=50),\n",
    "        'precio': sa.types.Float(),\n",
    "        'tipo': sa.types.NVARCHAR(length=50),\n",
    "        'fecha_inicio': sa.types.Date(),\n",
    "        'fecha_fin': sa.types.Date()\n",
    "})"
   ]
  },
  {
   "cell_type": "code",
   "execution_count": 8,
   "metadata": {},
   "outputs": [
    {
     "data": {
      "text/plain": [
       "-1"
      ]
     },
     "execution_count": 8,
     "metadata": {},
     "output_type": "execute_result"
    }
   ],
   "source": [
    "# Paso 2: Cargar los nuevos datos en la tabla auxiliar\n",
    "Bencina93_24.to_sql('Bencina93Paso', con=engine, if_exists='append', index=False, dtype={\n",
    "        'id': sa.types.NVARCHAR(length=50),\n",
    "        'precio': sa.types.Float(),\n",
    "        'tipo': sa.types.NVARCHAR(length=50),\n",
    "        'fecha_inicio': sa.types.Date(),\n",
    "        'fecha_fin': sa.types.Date(),\n",
    "        'hora_actualizacion':sa.types.Time()\n",
    "})\n",
    "\n",
    "Bencina95_24.to_sql('Bencina95Paso', con=engine, if_exists='append', index=False, dtype={\n",
    "        'id': sa.types.NVARCHAR(length=50),\n",
    "        'precio': sa.types.Float(),\n",
    "        'tipo': sa.types.NVARCHAR(length=50),\n",
    "        'fecha_inicio': sa.types.Date(),\n",
    "        'fecha_fin': sa.types.Date(),\n",
    "        'hora_actualizacion':sa.types.Time()\n",
    "})\n",
    "\n",
    "Bencina97_24.to_sql('Bencina97Paso', con=engine, if_exists='append', index=False, dtype={\n",
    "        'id': sa.types.NVARCHAR(length=50),\n",
    "        'precio': sa.types.Float(),\n",
    "        'tipo': sa.types.NVARCHAR(length=50),\n",
    "        'fecha_inicio': sa.types.Date(),\n",
    "        'fecha_fin': sa.types.Date(),\n",
    "        'hora_actualizacion':sa.types.Time()\n",
    "})\n",
    "\n",
    "Diesel_24.to_sql('DieselPaso', con=engine, if_exists='append', index=False, dtype={\n",
    "        'id': sa.types.NVARCHAR(length=50),\n",
    "        'precio': sa.types.Float(),\n",
    "        'tipo': sa.types.NVARCHAR(length=50),\n",
    "        'fecha_inicio': sa.types.Date(),\n",
    "        'fecha_fin': sa.types.Date(),\n",
    "        'hora_actualizacion':sa.types.Time()\n",
    "})"
   ]
  }
 ],
 "metadata": {
  "kernelspec": {
   "display_name": "Python 3",
   "language": "python",
   "name": "python3"
  },
  "language_info": {
   "codemirror_mode": {
    "name": "ipython",
    "version": 3
   },
   "file_extension": ".py",
   "mimetype": "text/x-python",
   "name": "python",
   "nbconvert_exporter": "python",
   "pygments_lexer": "ipython3",
   "version": "3.12.0"
  }
 },
 "nbformat": 4,
 "nbformat_minor": 2
}
