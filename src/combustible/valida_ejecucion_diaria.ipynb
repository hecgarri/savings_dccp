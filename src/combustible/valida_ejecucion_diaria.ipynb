{
 "cells": [
  {
   "cell_type": "code",
   "execution_count": null,
   "metadata": {},
   "outputs": [],
   "source": [
    "import os  # Módulo para interactuar con el sistema operativo, proporciona funciones para trabajar con archivos, directorios, variables de entorno, etc.\n",
    "import numpy as np  # Biblioteca para computación numérica en Python, proporciona estructuras de datos y funciones para trabajar con matrices y vectores de manera eficiente.\n",
    "import pandas as pd  # Biblioteca para análisis y manipulación de datos en Python, proporciona la estructura de datos DataFrame para trabajar con conjuntos de datos tabulares.\n",
    "pd.options.mode.chained_assignment = None  # Configuración para suprimir los warnings de \"copia encadenada\" en pandas, para evitar posibles advertencias que no son relevantes en nuestro código.\n",
    "import requests as r  # Biblioteca para enviar solicitudes HTTP en Python, facilita la realización de solicitudes a servidores web y el manejo de respuestas.\n",
    "import sqlalchemy as sa  # Biblioteca para interactuar con bases de datos relacionales en Python, proporciona herramientas para conectarse a bases de datos, enviar consultas SQL, etc.\n",
    "from sqlalchemy.sql import text  # Clase para construir expresiones SQL en SQLAlchemy, útil para generar consultas SQL de manera programática.\n",
    "from sqlalchemy.types import NVARCHAR  # Tipo de datos específico de SQLAlchemy, usado para definir columnas de tipo NVARCHAR en bases de datos SQL Server.\n",
    "import urllib  # Módulo para trabajar con URL en Python, proporciona funciones para manipular URLs, codificar y decodificar componentes de URL, etc.\n",
    "import json  # Módulo para trabajar con datos JSON en Python, proporciona funciones para codificar y decodificar datos JSON.\n",
    "from datetime import date  # Clase para representar fechas en Python, útil para manipular y trabajar con fechas en nuestras aplicaciones.\n",
    "from datetime import timedelta  # Clase para representar duraciones de tiempo en Python, útil para calcular y manipular intervalos de tiempo.\n",
    "import urllib                        #Para formatear string de conexión\n",
    "\n",
    "param_DW = urllib.parse.quote_plus(\"DRIVER={ODBC Driver 17 for SQL Server};SERVER=10.34.71.202;UID=datawarehouse;PWD=datawarehouse;DATABASE=Estudios;TrustServerCertificate=yes\")\n",
    "engine = sa.create_engine(\"mssql+pyodbc:///?odbc_connect=%s\" % param_DW)\n",
    "\n",
    "\n",
    "\n"
   ]
  },
  {
   "cell_type": "code",
   "execution_count": null,
   "metadata": {},
   "outputs": [],
   "source": [
    "def elimina_duplicados(table_aux,table_ant):\n",
    "    with engine.connect() as conn:\n",
    "        trans = conn.begin()\n",
    "        try:\n",
    "            conn.execute(\n",
    "                text(\n",
    "                f'''\n",
    "                SELECT *\n",
    "                FROM estudios.dbo.DieselHist\n",
    "                WHERE YEAR(fecha_inicio) = 2024\n",
    "                AND fecha_inicio = (SELECT MAX(fecha_inicio) \n",
    "                FROM estudios.dbo.DieselHist \n",
    "                WHERE YEAR(fecha_inicio) = 2024);\n",
    "                '''\n",
    "                )\n",
    "            )\n",
    "            trans.commit()\n",
    "        except Exception as e:\n",
    "            trans.rollback()\n",
    "            print(f\"Ha ocurrido un error al momento de modificar {table_aux}:{e}\")\n",
    "        finally:\n",
    "            conn.close()"
   ]
  }
 ],
 "metadata": {
  "kernelspec": {
   "display_name": "Python 3",
   "language": "python",
   "name": "python3"
  },
  "language_info": {
   "name": "python",
   "version": "3.12.0"
  }
 },
 "nbformat": 4,
 "nbformat_minor": 2
}
