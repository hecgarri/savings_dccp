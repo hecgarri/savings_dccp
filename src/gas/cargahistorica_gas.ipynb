{
 "cells": [
  {
   "cell_type": "code",
   "execution_count": 2,
   "metadata": {},
   "outputs": [],
   "source": [
    "import pandas as pd\n",
    "import numpy as np\n",
    "import sqlalchemy as sa              #Para conexión a BD, requerido para usar pd.read_sql()\n",
    "from sqlalchemy import text\n",
    "import urllib                        #Para formatear string de conexión\n",
    "\n",
    "\n",
    "param_DW = urllib.parse.quote_plus(\"DRIVER={ODBC Driver 17 for SQL Server};SERVER=10.34.71.202;UID=datawarehouse;PWD=datawarehouse;DATABASE=Estudios;TrustServerCertificate=yes\")\n",
    "engine = sa.create_engine(\"mssql+pyodbc:///?odbc_connect=%s\" % param_DW)"
   ]
  },
  {
   "cell_type": "code",
   "execution_count": 34,
   "metadata": {},
   "outputs": [
    {
     "name": "stderr",
     "output_type": "stream",
     "text": [
      "C:\\Users\\hector.garrido\\AppData\\Local\\Temp\\ipykernel_20752\\2281914040.py:1: DtypeWarning: Columns (4,5) have mixed types. Specify dtype option on import or set low_memory=False.\n",
      "  data_2024 = pd.read_csv(\"C:/o/DCCP/Javier Guajardo - Traspaso/2. Cálculo de Ahorro/savings_dccp/data/combustible/precios por estacion/energia_abierta/2024.csv/2024.csv\", sep=\",\")\n",
      "C:\\Users\\hector.garrido\\AppData\\Local\\Temp\\ipykernel_20752\\2281914040.py:11: SettingWithCopyWarning: \n",
      "A value is trying to be set on a copy of a slice from a DataFrame.\n",
      "Try using .loc[row_indexer,col_indexer] = value instead\n",
      "\n",
      "See the caveats in the documentation: https://pandas.pydata.org/pandas-docs/stable/user_guide/indexing.html#returning-a-view-versus-a-copy\n",
      "  reordered_data['tipo'] = reordered_data['tipo'].replace(reemplazos)\n"
     ]
    }
   ],
   "source": [
    "data_2024 = pd.read_csv(\"C:/o/DCCP/Javier Guajardo - Traspaso/2. Cálculo de Ahorro/savings_dccp/data/combustible/precios por estacion/energia_abierta/2024.csv/2024.csv\", sep=\",\")\n",
    "\n",
    "reemplazos = {\n",
    "    'GLP':'GasLicuado'\n",
    "}\n",
    "\n",
    "def modify_data(data,fueltype, reemplazos):\n",
    "    renamed_data = data.rename(columns={'codigo':'id','fecha_actualizacion':'fecha_inicio','combustible':'tipo'})\n",
    "    renamed_data['fecha_fin'] = pd.Timestamp.now().strftime('%Y-%m-%d')\n",
    "    reordered_data = renamed_data[['id','fecha_inicio','fecha_fin','precio','tipo','hora_actualizacion']]\n",
    "    reordered_data['tipo'] = reordered_data['tipo'].replace(reemplazos)\n",
    "    modified_data = reordered_data[reordered_data['tipo'].isin(reemplazos.values())]\n",
    "    filtered_data = modified_data[modified_data['tipo']==fueltype]\n",
    "    return filtered_data\n",
    "\n",
    "Gas_24 = modify_data(data_2024, 'GasLicuado', reemplazos) \n"
   ]
  },
  {
   "cell_type": "code",
   "execution_count": 47,
   "metadata": {},
   "outputs": [],
   "source": [
    "def create_table(new_table):\n",
    "    with engine.connect() as conn: \n",
    "        trans = conn.begin()\n",
    "        try: \n",
    "            # Crear la nueva tabla con la misma estructura que la tabla histórica\n",
    "            conn.execute(\n",
    "                text(f'''\n",
    "                CREATE TABLE Estudios.dbo.{new_table}(\n",
    "                    id VARCHAR(50),\n",
    "                    fecha_inicio DATE,\n",
    "                    fecha_fin DATE,\n",
    "                    precio DECIMAL(10,2),\n",
    "                    tipo VARCHAR(50)\n",
    "                )\n",
    "                     ''')\n",
    "            )\n",
    "            #Confirmar la transacción\n",
    "            trans.commit()\n",
    "            print(f\"Tabla {new_table} creada exitosamente.\")\n",
    "        except Exception as e: \n",
    "            trans.rollback()\n",
    "            print(f\"Ha ocurrido un error al momento de crear la tabla {new_table}:{e}\")\n",
    "        finally: \n",
    "            conn.close()\n",
    "\n",
    "def drop_table(old_table):\n",
    "    with engine.connect() as conn:\n",
    "        trans = conn.begin()\n",
    "        try: \n",
    "            #Borra una tabla ya existente \n",
    "            conn.execute(\n",
    "                text(\n",
    "                    f'''\n",
    "                    DROP TABLE Estudios.dbo.{old_table}\n",
    "                    '''\n",
    "                )\n",
    "            )\n",
    "            #Confirmar la transacción\n",
    "            trans.commit()\n",
    "            print(f\"Tabla {old_table} borrada existosamente.\")\n",
    "        except Exception as e: \n",
    "            trans.rollback()\n",
    "            print(f\"Ha ocurrido un error al momento de borrar la tabla {old_table}:{e}\")\n",
    "        finally:\n",
    "            conn.close()\n"
   ]
  },
  {
   "cell_type": "code",
   "execution_count": 46,
   "metadata": {},
   "outputs": [
    {
     "name": "stdout",
     "output_type": "stream",
     "text": [
      "Tabla GasLicuadoAnterior borrada existosamente.\n",
      "Tabla GasLicuadoAux borrada existosamente.\n",
      "Tabla GasLicuadoHist borrada existosamente.\n"
     ]
    }
   ],
   "source": [
    "#create_table('GasLicuado')\n",
    "drop_table('GasLicuadoAnterior')\n",
    "drop_table('GasLicuadoAux')\n",
    "drop_table('GasLicuadoHist')\n"
   ]
  },
  {
   "cell_type": "code",
   "execution_count": 48,
   "metadata": {},
   "outputs": [
    {
     "name": "stdout",
     "output_type": "stream",
     "text": [
      "Tabla GasLicuadoAnterior creada exitosamente.\n",
      "Tabla GasLicuadoAux creada exitosamente.\n",
      "Tabla GasLicuadoHist creada exitosamente.\n"
     ]
    }
   ],
   "source": [
    "create_table('GasLicuadoAnterior')\n",
    "create_table('GasLicuadoAux')\n",
    "create_table('GasLicuadoHist')"
   ]
  },
  {
   "cell_type": "code",
   "execution_count": 49,
   "metadata": {},
   "outputs": [],
   "source": [
    "with engine.connect() as conn:\n",
    "    trans = conn.begin()\n",
    "    conn.execute(\n",
    "                text(\n",
    "                    f'''\n",
    "                    ALTER TABLE Estudios.dbo.GasLicuadoAux\n",
    "                    ADD hora_actualizacion TIME;\n",
    "                    '''\n",
    "                )\n",
    "            )\n",
    "            #Confirmar la transacción\n",
    "    trans.commit()"
   ]
  },
  {
   "cell_type": "code",
   "execution_count": 50,
   "metadata": {},
   "outputs": [],
   "source": [
    "# Realiza respaldo de la tabla histórica en la tabla Anterior\n",
    "\n",
    "#Modifica tabla auxilar en la que se irán cargando los nuevos datos\n",
    "\n",
    "def cargar_y_modificar_aux(tabla_aux, datos):\n",
    "    # Paso 1: Modificar la tabla auxiliar\n",
    "    with engine.connect() as conn:\n",
    "        trans = conn.begin()\n",
    "        try:\n",
    "            # Borrar los datos existentes\n",
    "            conn.execute(text(f'''\n",
    "            DELETE FROM Estudios.dbo.{tabla_aux}\n",
    "            '''))\n",
    "\n",
    "            # Alterar la tabla para añadir la columna 'hora_actualizacion'\n",
    "            #conn.execute(text(f'''\n",
    "            #ALTER TABLE {tabla_aux}\n",
    "            #ADD hora_actualizacion TIME;\n",
    "            #'''))\n",
    "            \n",
    "            trans.commit()\n",
    "        except:\n",
    "            trans.rollback()\n",
    "            raise\n",
    "\n",
    "    # Paso 2: Cargar los nuevos datos en la tabla auxiliar\n",
    "    datos.to_sql(tabla_aux, con=engine, if_exists='append', index=False, dtype={\n",
    "        'id': sa.types.NVARCHAR(length=50),\n",
    "        'precio': sa.types.Float(),\n",
    "        'tipo': sa.types.NVARCHAR(length=50),\n",
    "        'fecha_inicio': sa.types.Date(),\n",
    "        'fecha_fin': sa.types.Date(),\n",
    "        'hora_actualizacion': sa.types.Time()\n",
    "    })\n",
    "\n",
    "\n",
    "def update_table(table_ant,table_hist):\n",
    "    with engine.connect() as conn:\n",
    "        trans = conn.begin()\n",
    "        try:\n",
    "            # Eliminar los registros existentes en la tabla\n",
    "            conn.execute(\n",
    "                text(f'''\n",
    "                DELETE FROM {table_ant}\n",
    "                ''')\n",
    "            )\n",
    "            \n",
    "            # Insertar los registros desde la tabla Histórica\n",
    "            conn.execute(\n",
    "                text(f'''\n",
    "                INSERT INTO Estudios.dbo.{table_ant} (id, fecha_inicio, fecha_fin, precio, tipo)\n",
    "                SELECT id, fecha_inicio, fecha_fin, precio, tipo\n",
    "                FROM {table_hist}\n",
    "                ''')\n",
    "            )\n",
    "            \n",
    "            # Confirmar la transacción\n",
    "            trans.commit()\n",
    "        except Exception as e:\n",
    "            trans.rollback()\n",
    "            print(f\"Ha ocurrido un error al momento de actualizar {table_ant}: {e}\")\n",
    "        finally:\n",
    "            conn.close()\n",
    "\n",
    "\n"
   ]
  },
  {
   "cell_type": "code",
   "execution_count": 51,
   "metadata": {},
   "outputs": [],
   "source": [
    "cargar_y_modificar_aux('GasLicuadoAux',Gas_24)"
   ]
  },
  {
   "cell_type": "code",
   "execution_count": 55,
   "metadata": {},
   "outputs": [
    {
     "data": {
      "text/plain": [
       "-1"
      ]
     },
     "execution_count": 55,
     "metadata": {},
     "output_type": "execute_result"
    }
   ],
   "source": [
    "Gas_24[['id','precio','tipo','fecha_inicio','fecha_fin']].to_sql('GasLicuadoAnterior', con=engine, if_exists='append', index=False, dtype={\n",
    "        'id': sa.types.NVARCHAR(length=50),\n",
    "        'precio': sa.types.Float(),\n",
    "        'tipo': sa.types.NVARCHAR(length=50),\n",
    "        'fecha_inicio': sa.types.Date(),\n",
    "        'fecha_fin': sa.types.Date()\n",
    "    })"
   ]
  },
  {
   "cell_type": "code",
   "execution_count": 56,
   "metadata": {},
   "outputs": [
    {
     "data": {
      "text/plain": [
       "-1"
      ]
     },
     "execution_count": 56,
     "metadata": {},
     "output_type": "execute_result"
    }
   ],
   "source": [
    "Gas_24[['id','precio','tipo','fecha_inicio','fecha_fin']].to_sql('GasLicuadoHist', con=engine, if_exists='append', index=False, dtype={\n",
    "        'id': sa.types.NVARCHAR(length=50),\n",
    "        'precio': sa.types.Float(),\n",
    "        'tipo': sa.types.NVARCHAR(length=50),\n",
    "        'fecha_inicio': sa.types.Date(),\n",
    "        'fecha_fin': sa.types.Date()\n",
    "    })"
   ]
  }
 ],
 "metadata": {
  "kernelspec": {
   "display_name": "Python 3",
   "language": "python",
   "name": "python3"
  },
  "language_info": {
   "codemirror_mode": {
    "name": "ipython",
    "version": 3
   },
   "file_extension": ".py",
   "mimetype": "text/x-python",
   "name": "python",
   "nbconvert_exporter": "python",
   "pygments_lexer": "ipython3",
   "version": "3.12.0"
  }
 },
 "nbformat": 4,
 "nbformat_minor": 2
}
